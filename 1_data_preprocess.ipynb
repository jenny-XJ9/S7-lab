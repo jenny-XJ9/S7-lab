{
 "cells": [
  {
   "cell_type": "code",
   "execution_count": 16,
   "id": "109558fa",
   "metadata": {},
   "outputs": [],
   "source": [
    "import numpy as np\n",
    "import pandas as pd\n",
    "import matplotlib.pyplot as plt"
   ]
  },
  {
   "cell_type": "code",
   "execution_count": 30,
   "id": "f5aba649",
   "metadata": {},
   "outputs": [
    {
     "data": {
      "text/html": [
       "<div>\n",
       "<style scoped>\n",
       "    .dataframe tbody tr th:only-of-type {\n",
       "        vertical-align: middle;\n",
       "    }\n",
       "\n",
       "    .dataframe tbody tr th {\n",
       "        vertical-align: top;\n",
       "    }\n",
       "\n",
       "    .dataframe thead th {\n",
       "        text-align: right;\n",
       "    }\n",
       "</style>\n",
       "<table border=\"1\" class=\"dataframe\">\n",
       "  <thead>\n",
       "    <tr style=\"text-align: right;\">\n",
       "      <th></th>\n",
       "      <th>id</th>\n",
       "      <th>values</th>\n",
       "    </tr>\n",
       "  </thead>\n",
       "  <tbody>\n",
       "    <tr>\n",
       "      <th>0</th>\n",
       "      <td>1</td>\n",
       "      <td>1</td>\n",
       "    </tr>\n",
       "    <tr>\n",
       "      <th>1</th>\n",
       "      <td>2</td>\n",
       "      <td>5</td>\n",
       "    </tr>\n",
       "    <tr>\n",
       "      <th>2</th>\n",
       "      <td>3</td>\n",
       "      <td>7</td>\n",
       "    </tr>\n",
       "  </tbody>\n",
       "</table>\n",
       "</div>"
      ],
      "text/plain": [
       "   id  values\n",
       "0   1       1\n",
       "1   2       5\n",
       "2   3       7"
      ]
     },
     "execution_count": 30,
     "metadata": {},
     "output_type": "execute_result"
    }
   ],
   "source": [
    "data={\n",
    "    \"id\":[1,2,3,4,5,6,7,8,9,10],\n",
    "    \"values\":[1,5,7,10,-955,53,23,82,90,200]\n",
    "}\n",
    "\n",
    "dt=pd.DataFrame(data)\n",
    "\n",
    "dt.head(3)"
   ]
  },
  {
   "cell_type": "code",
   "execution_count": 31,
   "id": "88bceaee",
   "metadata": {},
   "outputs": [],
   "source": [
    "q1=dt['values'].quantile(0.25)\n",
    "q3=dt['values'].quantile(0.75)\n",
    "iqt=q3-q1\n",
    "\n",
    "lower_bound=q1-iqt*1.5\n",
    "upper_bound=q3+iqt*1.5\n"
   ]
  },
  {
   "cell_type": "code",
   "execution_count": 32,
   "id": "fb65ee3f",
   "metadata": {},
   "outputs": [
    {
     "data": {
      "image/png": "[encoded data removed]",
      "text/plain": [
       "<Figure size 640x480 with 1 Axes>"
      ]
     },
     "metadata": {},
     "output_type": "display_data"
    }
   ],
   "source": [
    "cleaned=dt[(dt['values']>=lower_bound) & (dt['values']<=upper_bound)]\n",
    "\n",
    "\n",
    "\n",
    "plt.scatter(dt['id'],dt['values'],color='red')\n",
    "\n",
    "\n",
    "plt.scatter(cleaned['id'],cleaned['values'])\n",
    "plt.show()"
   ]
  }
 ],
 "metadata": {
  "kernelspec": {
   "display_name": "Python 3",
   "language": "python",
   "name": "python3"
  },
  "language_info": {
   "codemirror_mode": {
    "name": "ipython",
    "version": 3
   },
   "file_extension": ".py",
   "mimetype": "text/x-python",
   "name": "python",
   "nbconvert_exporter": "python",
   "pygments_lexer": "ipython3",
   "version": "3.13.2"
  }
 },
 "nbformat": 4,
 "nbformat_minor": 5
}
