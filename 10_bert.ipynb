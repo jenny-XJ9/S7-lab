{
 "cells": [
  {
   "cell_type": "code",
   "execution_count": 2,
   "id": "2b67e609",
   "metadata": {},
   "outputs": [
    {
     "name": "stderr",
     "output_type": "stream",
     "text": [
      "c:\\Program Files\\Python313\\Lib\\site-packages\\tqdm\\auto.py:21: TqdmWarning: IProgress not found. Please update jupyter and ipywidgets. See https://ipywidgets.readthedocs.io/en/stable/user_install.html\n",
      "  from .autonotebook import tqdm as notebook_tqdm\n"
     ]
    }
   ],
   "source": [
    "from transformers import pipeline\n"
   ]
  },
  {
   "cell_type": "code",
   "execution_count": 8,
   "id": "437bb1a3",
   "metadata": {},
   "outputs": [
    {
     "name": "stderr",
     "output_type": "stream",
     "text": [
      "Device set to use cpu\n"
     ]
    },
    {
     "name": "stdout",
     "output_type": "stream",
     "text": [
      "i absolutely love this new phone, its incredible! \n",
      " {'label': 'POSITIVE', 'score': 0.9998776912689209}\n"
     ]
    },
    {
     "name": "stderr",
     "output_type": "stream",
     "text": [
      "Device set to use cpu\n"
     ]
    },
    {
     "name": "stdout",
     "output_type": "stream",
     "text": [
      "this movie was a complete waste of time, i'm so disappointed \n",
      " {'label': 'NEGATIVE', 'score': 0.999826967716217}\n"
     ]
    },
    {
     "name": "stderr",
     "output_type": "stream",
     "text": [
      "Device set to use cpu\n"
     ]
    },
    {
     "name": "stdout",
     "output_type": "stream",
     "text": [
      "the food was okay \n",
      " {'label': 'POSITIVE', 'score': 0.9997796416282654}\n"
     ]
    }
   ],
   "source": [
    "def analyze_Sentiment(text):\n",
    "    sentiment_pipeline=pipeline(\"sentiment-analysis\",model='distilbert-base-uncased-finetuned-sst-2-english')\n",
    "    result=sentiment_pipeline(text)[0]\n",
    "    return result\n",
    "\n",
    "\n",
    "positive=\"i absolutely love this new phone, its incredible!\"\n",
    "negative=\"this movie was a complete waste of time, i'm so disappointed\"\n",
    "neutral=\"the food was okay\"\n",
    "\n",
    "\n",
    "print(positive,\"\\n\",analyze_Sentiment(positive))\n",
    "print(negative,\"\\n\",analyze_Sentiment(negative))\n",
    "print(neutral,\"\\n\",analyze_Sentiment(neutral))"
   ]
  }
 ],
 "metadata": {
  "kernelspec": {
   "display_name": "Python 3",
   "language": "python",
   "name": "python3"
  },
  "language_info": {
   "codemirror_mode": {
    "name": "ipython",
    "version": 3
   },
   "file_extension": ".py",
   "mimetype": "text/x-python",
   "name": "python",
   "nbconvert_exporter": "python",
   "pygments_lexer": "ipython3",
   "version": "3.13.2"
  }
 },
 "nbformat": 4,
 "nbformat_minor": 5
}
