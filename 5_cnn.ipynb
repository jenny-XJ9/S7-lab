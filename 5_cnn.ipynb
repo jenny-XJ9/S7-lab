{
 "cells": [
  {
   "cell_type": "code",
   "execution_count": 3,
   "id": "45ac71ab",
   "metadata": {},
   "outputs": [],
   "source": [
    "import matplotlib.pyplot as plt\n",
    "import numpy as np\n",
    "from tensorflow.keras.models import Sequential\n",
    "from tensorflow.keras.layers import Dense,Flatten,Conv2D,MaxPooling2D\n",
    "from sklearn.model_selection import train_test_split\n",
    "from tensorflow.keras.utils import image_dataset_from_directory,to_categorical\n"
   ]
  },
  {
   "cell_type": "code",
   "execution_count": 4,
   "id": "05519fc1",
   "metadata": {},
   "outputs": [],
   "source": [
    "def load_data(dir,image_size=(32,32)):\n",
    "    data=image_dataset_from_directory(dir,image_size=image_size)\n",
    "    images,labels=[],[]\n",
    "    for x,y in data:\n",
    "        images.append(x.numpy().astype('float32')/255.0)\n",
    "        labels.append(y.numpy())\n",
    "    X=np.concatenate(images)\n",
    "    Y=np.concatenate(labels)\n",
    "    Y=to_categorical(Y,10)\n",
    " \n",
    "    return X,Y"
   ]
  },
  {
   "cell_type": "code",
   "execution_count": 5,
   "id": "6d296be5",
   "metadata": {},
   "outputs": [
    {
     "name": "stdout",
     "output_type": "stream",
     "text": [
      "Found 50000 files belonging to 10 classes.\n"
     ]
    }
   ],
   "source": [
    "X,Y=load_data(\"D:\\\\Source_code\\\\Lab\\\\data\\\\cifar10\\\\train\")\n",
    "\n",
    "xtrain,xtest,ytrain,ytest=train_test_split(X,Y,random_state=42,stratify=Y,test_size=0.2)"
   ]
  },
  {
   "cell_type": "code",
   "execution_count": 8,
   "id": "4a13a62a",
   "metadata": {},
   "outputs": [
    {
     "name": "stdout",
     "output_type": "stream",
     "text": [
      "Epoch 1/5\n",
      "\u001b[1m625/625\u001b[0m \u001b[32m━━━━━━━━━━━━━━━━━━━━\u001b[0m\u001b[37m\u001b[0m \u001b[1m8s\u001b[0m 11ms/step - accuracy: 0.3463 - loss: 1.7752 - val_accuracy: 0.4518 - val_loss: 1.5225\n",
      "Epoch 2/5\n",
      "\u001b[1m625/625\u001b[0m \u001b[32m━━━━━━━━━━━━━━━━━━━━\u001b[0m\u001b[37m\u001b[0m \u001b[1m6s\u001b[0m 10ms/step - accuracy: 0.4757 - loss: 1.4462 - val_accuracy: 0.4949 - val_loss: 1.4099\n",
      "Epoch 3/5\n",
      "\u001b[1m625/625\u001b[0m \u001b[32m━━━━━━━━━━━━━━━━━━━━\u001b[0m\u001b[37m\u001b[0m \u001b[1m6s\u001b[0m 10ms/step - accuracy: 0.5207 - loss: 1.3315 - val_accuracy: 0.5362 - val_loss: 1.3021\n",
      "Epoch 4/5\n",
      "\u001b[1m625/625\u001b[0m \u001b[32m━━━━━━━━━━━━━━━━━━━━\u001b[0m\u001b[37m\u001b[0m \u001b[1m6s\u001b[0m 10ms/step - accuracy: 0.5512 - loss: 1.2496 - val_accuracy: 0.5525 - val_loss: 1.2511\n",
      "Epoch 5/5\n",
      "\u001b[1m625/625\u001b[0m \u001b[32m━━━━━━━━━━━━━━━━━━━━\u001b[0m\u001b[37m\u001b[0m \u001b[1m6s\u001b[0m 10ms/step - accuracy: 0.5760 - loss: 1.1932 - val_accuracy: 0.5678 - val_loss: 1.2262\n"
     ]
    }
   ],
   "source": [
    "model=Sequential([\n",
    "    Conv2D(32,3,activation='relu',input_shape=(xtrain.shape[1:])),\n",
    "    MaxPooling2D(),\n",
    "    Conv2D(32,3,activation='relu'),\n",
    "    MaxPooling2D(),\n",
    "    Conv2D(32,3,activation='relu'),\n",
    "    MaxPooling2D(),\n",
    "    Flatten(),\n",
    "    Dense(32,activation='relu'),\n",
    "    Dense(10,activation='softmax')\n",
    "])\n",
    "\n",
    "model.compile(optimizer='adam',loss='categorical_crossentropy',metrics=['accuracy'])\n",
    "logs=model.fit(xtrain,ytrain,validation_data=(xtest,ytest),epochs=5,batch_size=64)\n"
   ]
  },
  {
   "cell_type": "code",
   "execution_count": 12,
   "id": "7f20a5fb",
   "metadata": {},
   "outputs": [
    {
     "name": "stderr",
     "output_type": "stream",
     "text": [
      "C:\\Users\\luzif\\AppData\\Local\\Temp\\ipykernel_5204\\3360923045.py:2: UserWarning: No artists with labels found to put in legend.  Note that artists whose label start with an underscore are ignored when legend() is called with no argument.\n",
      "  plt.legend()\n"
     ]
    },
    {
     "data": {
      "image/png": "[encoded data removed]",
      "text/plain": [
       "<Figure size 640x480 with 1 Axes>"
      ]
     },
     "metadata": {},
     "output_type": "display_data"
    }
   ],
   "source": [
    "\n",
    "plt.plot(logs.history['accuracy'])\n",
    "plt.legend()\n",
    "plt.show()"
   ]
  }
 ],
 "metadata": {
  "kernelspec": {
   "display_name": "Python 3",
   "language": "python",
   "name": "python3"
  },
  "language_info": {
   "codemirror_mode": {
    "name": "ipython",
    "version": 3
   },
   "file_extension": ".py",
   "mimetype": "text/x-python",
   "name": "python",
   "nbconvert_exporter": "python",
   "pygments_lexer": "ipython3",
   "version": "3.13.2"
  }
 },
 "nbformat": 4,
 "nbformat_minor": 5
}
