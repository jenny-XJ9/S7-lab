{
 "cells": [
  {
   "cell_type": "code",
   "execution_count": 7,
   "id": "9d8eeaf1",
   "metadata": {},
   "outputs": [],
   "source": [
    "import numpy as np\n",
    "import matplotlib.pyplot as plt\n",
    "from sklearn.model_selection import train_test_split\n",
    "from tensorflow.keras.models import Sequential\n",
    "from tensorflow.keras.layers import Dense,Flatten\n",
    "from tensorflow.keras.utils import image_dataset_from_directory,to_categorical"
   ]
  },
  {
   "cell_type": "code",
   "execution_count": 4,
   "id": "6f161b7a",
   "metadata": {},
   "outputs": [],
   "source": [
    "def load_dataset(dir,image_size=(32,32)):\n",
    "    dataset=image_dataset_from_directory(dir,image_size=image_size)\n",
    "    image,label=[],[]\n",
    "    for x,y in dataset:\n",
    "        image.append(x.numpy())\n",
    "        label.append(y.numpy())\n",
    "\n",
    "    X=np.concatenate(image,axis=0).astype('float32')/255.0\n",
    "    Y=np.concatenate(label,axis=0)\n",
    "    Y=to_categorical(Y,10)\n",
    "    return X,Y"
   ]
  },
  {
   "cell_type": "code",
   "execution_count": null,
   "id": "66c3bb6c",
   "metadata": {},
   "outputs": [
    {
     "name": "stderr",
     "output_type": "stream",
     "text": [
      "<>:1: SyntaxWarning: invalid escape sequence '\\d'\n",
      "<>:1: SyntaxWarning: invalid escape sequence '\\d'\n",
      "C:\\Users\\luzif\\AppData\\Local\\Temp\\ipykernel_11868\\2888818346.py:1: SyntaxWarning: invalid escape sequence '\\d'\n",
      "  X,Y=load_dataset('D:\\\\Source_code\\\\Lab\\data\\\\cifar10\\\\train')\n"
     ]
    },
    {
     "name": "stdout",
     "output_type": "stream",
     "text": [
      "Found 50000 files belonging to 10 classes.\n"
     ]
    }
   ],
   "source": [
    "X,Y=load_dataset('D:\\\\Source_code\\\\Lab\\\\data\\\\cifar10\\\\train')\n",
    "\n",
    "xtrain,xtest,ytrain,ytest=train_test_split(X,Y,test_size=0.2,stratify=Y,random_state=42)\n",
    "\n",
    "\n"
   ]
  },
  {
   "cell_type": "code",
   "execution_count": 12,
   "id": "346fa8d5",
   "metadata": {},
   "outputs": [],
   "source": [
    "model=Sequential([\n",
    "    Flatten(input_shape=(32,32,3)),\n",
    "    Dense(512,activation='relu'),\n",
    "    Dense(256,activation='relu'),\n",
    "    Dense(128,activation='relu'),\n",
    "    Dense(10,activation='softmax')\n",
    "])\n",
    "model.compile(optimizer='adam',loss='categorical_crossentropy',metrics=['accuracy'])"
   ]
  },
  {
   "cell_type": "code",
   "execution_count": 13,
   "id": "2eaf5616",
   "metadata": {},
   "outputs": [
    {
     "name": "stdout",
     "output_type": "stream",
     "text": [
      "\u001b[1m625/625\u001b[0m \u001b[32m━━━━━━━━━━━━━━━━━━━━\u001b[0m\u001b[37m\u001b[0m \u001b[1m11s\u001b[0m 17ms/step - accuracy: 0.3031 - loss: 1.9116 - val_accuracy: 0.3388 - val_loss: 1.8166\n"
     ]
    }
   ],
   "source": [
    "history=model.fit(xtrain,ytrain,batch_size=64,validation_data=(xtest,ytest))"
   ]
  }
 ],
 "metadata": {
  "kernelspec": {
   "display_name": "Python 3",
   "language": "python",
   "name": "python3"
  },
  "language_info": {
   "codemirror_mode": {
    "name": "ipython",
    "version": 3
   },
   "file_extension": ".py",
   "mimetype": "text/x-python",
   "name": "python",
   "nbconvert_exporter": "python",
   "pygments_lexer": "ipython3",
   "version": "3.13.2"
  }
 },
 "nbformat": 4,
 "nbformat_minor": 5
}
