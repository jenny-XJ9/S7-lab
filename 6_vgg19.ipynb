{
 "cells": [
  {
   "cell_type": "code",
   "execution_count": null,
   "id": "1e489b0b",
   "metadata": {},
   "outputs": [],
   "source": [
    "import numpy as np\n",
    "import matplotlib.pyplot as plt\n",
    "import tensorflow as tf\n",
    "from sklearn.model_selection import train_test_split\n",
    "from tensorflow.keras.utils import image_dataset_from_directory, to_categorical\n",
    "from tensorflow.keras.applications import VGG19\n",
    "from tensorflow.keras.applications.vgg19 import preprocess_input\n",
    "from tensorflow.keras import layers, models\n"
   ]
  },
  {
   "cell_type": "code",
   "execution_count": null,
   "id": "3c28284d",
   "metadata": {},
   "outputs": [],
   "source": [
    "\n",
    "def load_dataset(dir, image_size=(32, 32)):\n",
    "    dataset = image_dataset_from_directory(dir, image_size=image_size)\n",
    "    images, labels = [], []\n",
    "    for x, y in dataset:\n",
    "        images.append(x.numpy())\n",
    "        labels.append(y.numpy())\n",
    "    X = np.concatenate(images, axis=0).astype('float32') / 255.0\n",
    "    Y = np.concatenate(labels, axis=0)\n",
    "    Y = to_categorical(Y, 10)\n",
    "    return X, Y\n",
    "\n",
    "def resize_and_preprocess(X, batch_size=500):\n",
    "    \"\"\"Process images in batches to avoid OOM\"\"\"\n",
    "    processed = []\n",
    "    for i in range(0, len(X), batch_size):\n",
    "        batch = X[i:i+batch_size]\n",
    "        batch = tf.image.resize(batch, (224, 224))\n",
    "        batch = preprocess_input(batch.numpy())\n",
    "        processed.append(batch)\n",
    "    return np.concatenate(processed, axis=0)\n",
    "\n",
    "# Load data\n"
   ]
  },
  {
   "cell_type": "code",
   "execution_count": null,
   "id": "e5fe553b",
   "metadata": {},
   "outputs": [],
   "source": [
    "X, Y = load_dataset('/content/drive/MyDrive/cifar10/cifar10/train')\n",
    "\n",
    "# Sample subset (use less data)\n",
    "indices = np.random.choice(len(X), size=5000, replace=False)\n",
    "X, Y = X[indices], Y[indices]\n",
    "\n",
    "# Split\n",
    "xtrain, xtest, ytrain, ytest = train_test_split(X, Y, test_size=0.2, random_state=42, stratify=Y)\n",
    "\n",
    "# Resize and preprocess in batches\n",
    "xtrain = resize_and_preprocess(xtrain)\n",
    "xtest = resize_and_preprocess(xtest)\n",
    "\n",
    "# Build model\n",
    "base_model = VGG19(weights=\"imagenet\", include_top=False, input_shape=(224, 224, 3))\n",
    "base_model.trainable = False\n",
    "\n",
    "model = models.Sequential([\n",
    "    base_model,\n",
    "    layers.Flatten(),\n",
    "    layers.Dense(256, activation=\"relu\"),\n",
    "    layers.Dense(10, activation=\"softmax\")\n",
    "])\n",
    "\n"
   ]
  },
  {
   "cell_type": "code",
   "execution_count": null,
   "id": "7bb0d891",
   "metadata": {},
   "outputs": [],
   "source": [
    "model.compile(optimizer=\"adam\", loss=\"categorical_crossentropy\", metrics=[\"accuracy\"])\n",
    "\n",
    "# Train\n",
    "history = model.fit(xtrain, ytrain, validation_data=(xtest, ytest), epochs=5, batch_size=16)\n",
    "\n",
    "# Plot\n",
    "plt.plot(history.history[\"accuracy\"], label=\"Train\")\n",
    "plt.plot(history.history[\"val_accuracy\"], label=\"Val\")\n",
    "plt.xlabel(\"Epochs\")\n",
    "plt.ylabel(\"Accuracy\")\n",
    "plt.legend()\n",
    "plt.show()"
   ]
  },
  {
   "cell_type": "code",
   "execution_count": null,
   "id": "d079429f",
   "metadata": {},
   "outputs": [],
   "source": [
    "#alex\n",
    "from keras_applications_contrib.alexnet import AlexNet\n",
    "from tensorflow.keras import layers, models\n",
    "\n",
    "base_model = AlexNet(include_top=False, input_shape=(227,227,3), weights=None) \n",
    "base_model.trainable = False\n",
    "\n",
    "model = models.Sequential([\n",
    "    layers.Resizing(227, 227),        \n",
    "    layers.Rescaling(1./255),         \n",
    "    base_model,\n",
    "    layers.GlobalAveragePooling2D(),  \n",
    "    layers.Dense(128, activation=\"relu\"),\n",
    "    layers.Dense(10, activation=\"softmax\"),\n",
    "])"
   ]
  }
 ],
 "metadata": {
  "language_info": {
   "name": "python"
  }
 },
 "nbformat": 4,
 "nbformat_minor": 5
}
