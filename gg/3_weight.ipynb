{
 "cells": [
  {
   "cell_type": "code",
   "execution_count": 31,
   "id": "deaadc32",
   "metadata": {},
   "outputs": [],
   "source": [
    "import matplotlib.pyplot as plt\n",
    "import numpy as np\n",
    "from tensorflow.keras.models import Sequential\n",
    "from tensorflow.keras.layers import Dense,Flatten,Dropout\n",
    "from tensorflow.keras.regularizers import l2\n",
    "import pandas as pd\n",
    "from sklearn.model_selection import train_test_split\n"
   ]
  },
  {
   "cell_type": "code",
   "execution_count": 57,
   "id": "a4973487",
   "metadata": {},
   "outputs": [
    {
     "data": {
      "text/html": [
       "<div>\n",
       "<style scoped>\n",
       "    .dataframe tbody tr th:only-of-type {\n",
       "        vertical-align: middle;\n",
       "    }\n",
       "\n",
       "    .dataframe tbody tr th {\n",
       "        vertical-align: top;\n",
       "    }\n",
       "\n",
       "    .dataframe thead th {\n",
       "        text-align: right;\n",
       "    }\n",
       "</style>\n",
       "<table border=\"1\" class=\"dataframe\">\n",
       "  <thead>\n",
       "    <tr style=\"text-align: right;\">\n",
       "      <th></th>\n",
       "      <th>drizzle</th>\n",
       "      <th>fog</th>\n",
       "      <th>rain</th>\n",
       "      <th>snow</th>\n",
       "      <th>sun</th>\n",
       "    </tr>\n",
       "  </thead>\n",
       "  <tbody>\n",
       "    <tr>\n",
       "      <th>0</th>\n",
       "      <td>True</td>\n",
       "      <td>False</td>\n",
       "      <td>False</td>\n",
       "      <td>False</td>\n",
       "      <td>False</td>\n",
       "    </tr>\n",
       "    <tr>\n",
       "      <th>1</th>\n",
       "      <td>False</td>\n",
       "      <td>False</td>\n",
       "      <td>True</td>\n",
       "      <td>False</td>\n",
       "      <td>False</td>\n",
       "    </tr>\n",
       "    <tr>\n",
       "      <th>2</th>\n",
       "      <td>False</td>\n",
       "      <td>False</td>\n",
       "      <td>True</td>\n",
       "      <td>False</td>\n",
       "      <td>False</td>\n",
       "    </tr>\n",
       "    <tr>\n",
       "      <th>3</th>\n",
       "      <td>False</td>\n",
       "      <td>False</td>\n",
       "      <td>True</td>\n",
       "      <td>False</td>\n",
       "      <td>False</td>\n",
       "    </tr>\n",
       "    <tr>\n",
       "      <th>4</th>\n",
       "      <td>False</td>\n",
       "      <td>False</td>\n",
       "      <td>True</td>\n",
       "      <td>False</td>\n",
       "      <td>False</td>\n",
       "    </tr>\n",
       "  </tbody>\n",
       "</table>\n",
       "</div>"
      ],
      "text/plain": [
       "   drizzle    fog   rain   snow    sun\n",
       "0     True  False  False  False  False\n",
       "1    False  False   True  False  False\n",
       "2    False  False   True  False  False\n",
       "3    False  False   True  False  False\n",
       "4    False  False   True  False  False"
      ]
     },
     "execution_count": 57,
     "metadata": {},
     "output_type": "execute_result"
    }
   ],
   "source": [
    "data=pd.read_csv(\"D:\\\\Source_code\\\\Lab\\\\data\\\\seattle-weather.csv\")\n",
    "data=data.drop(\"date\",axis=1)\n",
    "#data.head()\n",
    "\n",
    "X=data.drop(\"weather\",axis=1)\n",
    "Y = pd.get_dummies(data['weather'])\n",
    "\n",
    "X.head()\n",
    "Y.head()\n"
   ]
  },
  {
   "cell_type": "code",
   "execution_count": 39,
   "id": "2f2ea403",
   "metadata": {},
   "outputs": [],
   "source": [
    "\n",
    "xtrain,xtest,ytrain,ytest=train_test_split(X,Y,test_size=0.3,random_state=42)"
   ]
  },
  {
   "cell_type": "code",
   "execution_count": 58,
   "id": "533da25a",
   "metadata": {},
   "outputs": [],
   "source": [
    "def build_model(kernel,reg,dropout):\n",
    "    reg=l2(0.001) if reg else None\n",
    "    model=Sequential()\n",
    "    model.add(Dense(128,activation='relu',kernel_initializer=kernel,kernel_regularizer=reg))\n",
    "    if dropout:\n",
    "        model.add(Dropout(dropout))\n",
    "    model.add(Dense(64,activation='relu',kernel_initializer=kernel,kernel_regularizer=reg))\n",
    "    if dropout:\n",
    "        model.add(Dropout(dropout))\n",
    "    model.add(Dense(32,activation='relu',kernel_initializer=kernel,kernel_regularizer=reg))\n",
    "    if dropout:\n",
    "        model.add(Dropout(dropout))\n",
    "    model.add(Dense(5,activation='softmax'))\n",
    "    \n",
    "    model.compile(optimizer='adam',loss='categorical_crossentropy',metrics=['accuracy'])\n",
    "    return model\n"
   ]
  },
  {
   "cell_type": "code",
   "execution_count": 59,
   "id": "008738d1",
   "metadata": {},
   "outputs": [
    {
     "name": "stdout",
     "output_type": "stream",
     "text": [
      "Epoch 1/5\n",
      "\u001b[1m16/16\u001b[0m \u001b[32m━━━━━━━━━━━━━━━━━━━━\u001b[0m\u001b[37m\u001b[0m \u001b[1m1s\u001b[0m 17ms/step - accuracy: 0.6027 - loss: 1.0459 - val_accuracy: 0.7517 - val_loss: 0.8079\n",
      "Epoch 2/5\n",
      "\u001b[1m16/16\u001b[0m \u001b[32m━━━━━━━━━━━━━━━━━━━━\u001b[0m\u001b[37m\u001b[0m \u001b[1m0s\u001b[0m 6ms/step - accuracy: 0.7710 - loss: 0.7682 - val_accuracy: 0.7699 - val_loss: 0.6957\n",
      "Epoch 3/5\n",
      "\u001b[1m16/16\u001b[0m \u001b[32m━━━━━━━━━━━━━━━━━━━━\u001b[0m\u001b[37m\u001b[0m \u001b[1m0s\u001b[0m 6ms/step - accuracy: 0.7838 - loss: 0.6868 - val_accuracy: 0.7768 - val_loss: 0.6534\n",
      "Epoch 4/5\n",
      "\u001b[1m16/16\u001b[0m \u001b[32m━━━━━━━━━━━━━━━━━━━━\u001b[0m\u001b[37m\u001b[0m \u001b[1m0s\u001b[0m 5ms/step - accuracy: 0.7886 - loss: 0.6456 - val_accuracy: 0.7745 - val_loss: 0.6363\n",
      "Epoch 5/5\n",
      "\u001b[1m16/16\u001b[0m \u001b[32m━━━━━━━━━━━━━━━━━━━━\u001b[0m\u001b[37m\u001b[0m \u001b[1m0s\u001b[0m 6ms/step - accuracy: 0.7955 - loss: 0.6191 - val_accuracy: 0.7995 - val_loss: 0.6040\n",
      "Epoch 1/5\n",
      "\u001b[1m16/16\u001b[0m \u001b[32m━━━━━━━━━━━━━━━━━━━━\u001b[0m\u001b[37m\u001b[0m \u001b[1m1s\u001b[0m 15ms/step - accuracy: 0.5137 - loss: 1.5701 - val_accuracy: 0.7358 - val_loss: 0.9211\n",
      "Epoch 2/5\n",
      "\u001b[1m16/16\u001b[0m \u001b[32m━━━━━━━━━━━━━━━━━━━━\u001b[0m\u001b[37m\u001b[0m \u001b[1m0s\u001b[0m 6ms/step - accuracy: 0.6380 - loss: 1.1087 - val_accuracy: 0.7540 - val_loss: 0.8590\n",
      "Epoch 3/5\n",
      "\u001b[1m16/16\u001b[0m \u001b[32m━━━━━━━━━━━━━━━━━━━━\u001b[0m\u001b[37m\u001b[0m \u001b[1m0s\u001b[0m 6ms/step - accuracy: 0.6996 - loss: 0.9675 - val_accuracy: 0.7403 - val_loss: 0.8328\n",
      "Epoch 4/5\n",
      "\u001b[1m16/16\u001b[0m \u001b[32m━━━━━━━━━━━━━━━━━━━━\u001b[0m\u001b[37m\u001b[0m \u001b[1m0s\u001b[0m 6ms/step - accuracy: 0.7290 - loss: 0.9425 - val_accuracy: 0.7563 - val_loss: 0.8036\n",
      "Epoch 5/5\n",
      "\u001b[1m16/16\u001b[0m \u001b[32m━━━━━━━━━━━━━━━━━━━━\u001b[0m\u001b[37m\u001b[0m \u001b[1m0s\u001b[0m 6ms/step - accuracy: 0.7466 - loss: 0.8701 - val_accuracy: 0.7745 - val_loss: 0.7695\n",
      "Epoch 1/5\n",
      "\u001b[1m16/16\u001b[0m \u001b[32m━━━━━━━━━━━━━━━━━━━━\u001b[0m\u001b[37m\u001b[0m \u001b[1m1s\u001b[0m 14ms/step - accuracy: 0.6076 - loss: 1.8680 - val_accuracy: 0.7494 - val_loss: 0.9573\n",
      "Epoch 2/5\n",
      "\u001b[1m16/16\u001b[0m \u001b[32m━━━━━━━━━━━━━━━━━━━━\u001b[0m\u001b[37m\u001b[0m \u001b[1m0s\u001b[0m 6ms/step - accuracy: 0.7417 - loss: 0.8337 - val_accuracy: 0.7859 - val_loss: 0.6962\n",
      "Epoch 3/5\n",
      "\u001b[1m16/16\u001b[0m \u001b[32m━━━━━━━━━━━━━━━━━━━━\u001b[0m\u001b[37m\u001b[0m \u001b[1m0s\u001b[0m 6ms/step - accuracy: 0.8023 - loss: 0.6740 - val_accuracy: 0.7882 - val_loss: 0.6470\n",
      "Epoch 4/5\n",
      "\u001b[1m16/16\u001b[0m \u001b[32m━━━━━━━━━━━━━━━━━━━━\u001b[0m\u001b[37m\u001b[0m \u001b[1m0s\u001b[0m 6ms/step - accuracy: 0.7965 - loss: 0.6393 - val_accuracy: 0.7859 - val_loss: 0.6204\n",
      "Epoch 5/5\n",
      "\u001b[1m16/16\u001b[0m \u001b[32m━━━━━━━━━━━━━━━━━━━━\u001b[0m\u001b[37m\u001b[0m \u001b[1m0s\u001b[0m 6ms/step - accuracy: 0.7994 - loss: 0.6284 - val_accuracy: 0.7927 - val_loss: 0.5986\n",
      "Epoch 1/5\n",
      "\u001b[1m16/16\u001b[0m \u001b[32m━━━━━━━━━━━━━━━━━━━━\u001b[0m\u001b[37m\u001b[0m \u001b[1m1s\u001b[0m 15ms/step - accuracy: 0.4755 - loss: 4.7846 - val_accuracy: 0.6948 - val_loss: 1.5240\n",
      "Epoch 2/5\n",
      "\u001b[1m16/16\u001b[0m \u001b[32m━━━━━━━━━━━━━━━━━━━━\u001b[0m\u001b[37m\u001b[0m \u001b[1m0s\u001b[0m 7ms/step - accuracy: 0.5538 - loss: 2.3652 - val_accuracy: 0.6788 - val_loss: 1.4226\n",
      "Epoch 3/5\n",
      "\u001b[1m16/16\u001b[0m \u001b[32m━━━━━━━━━━━━━━━━━━━━\u001b[0m\u001b[37m\u001b[0m \u001b[1m0s\u001b[0m 6ms/step - accuracy: 0.5460 - loss: 1.9480 - val_accuracy: 0.6333 - val_loss: 1.3899\n",
      "Epoch 4/5\n",
      "\u001b[1m16/16\u001b[0m \u001b[32m━━━━━━━━━━━━━━━━━━━━\u001b[0m\u001b[37m\u001b[0m \u001b[1m0s\u001b[0m 7ms/step - accuracy: 0.5558 - loss: 1.6779 - val_accuracy: 0.6674 - val_loss: 1.3182\n",
      "Epoch 5/5\n",
      "\u001b[1m16/16\u001b[0m \u001b[32m━━━━━━━━━━━━━━━━━━━━\u001b[0m\u001b[37m\u001b[0m \u001b[1m0s\u001b[0m 6ms/step - accuracy: 0.5949 - loss: 1.6165 - val_accuracy: 0.6970 - val_loss: 1.2712\n"
     ]
    }
   ],
   "source": [
    "config={\n",
    "    'xavier':['glorot_uniform',0,False],\n",
    "    'xavier_with_dropout_and_reg':['glorot_uniform',0.1,True],\n",
    "    'he':['he_uniform',0,False],\n",
    "    'he_with_droupout_reg':['he_uniform',0.1,True]\n",
    "}\n",
    "\n",
    "logs={}\n",
    "\n",
    "for name,(kernal,dropout,regularizer) in config.items():\n",
    "    model=build_model(kernal,regularizer,dropout)\n",
    "    log=model.fit(xtrain,ytrain,validation_data=(xtest,ytest),epochs=5,batch_size=64)\n",
    "    logs[name]=log.history"
   ]
  },
  {
   "cell_type": "code",
   "execution_count": 60,
   "id": "9bdb0e98",
   "metadata": {},
   "outputs": [
    {
     "name": "stdout",
     "output_type": "stream",
     "text": [
      "dict_items([('xavier', {'accuracy': [0.6027397513389587, 0.7710371613502502, 0.7837573289871216, 0.7886496782302856, 0.7954990267753601], 'loss': [1.0459197759628296, 0.7681795358657837, 0.6868366599082947, 0.6456325054168701, 0.6191304326057434], 'val_accuracy': [0.751708447933197, 0.7699316740036011, 0.7767653465270996, 0.7744874954223633, 0.7995443940162659], 'val_loss': [0.8079476952552795, 0.6956765055656433, 0.6533565521240234, 0.6362740993499756, 0.603979229927063]}), ('xavier_with_dropout_and_reg', {'accuracy': [0.5136986374855042, 0.6379647850990295, 0.6996086239814758, 0.7289628386497498, 0.7465753555297852], 'loss': [1.5700782537460327, 1.1086513996124268, 0.9674846529960632, 0.9425395727157593, 0.8701462745666504], 'val_accuracy': [0.7357630729675293, 0.7539863586425781, 0.7403188943862915, 0.7562642097473145, 0.7744874954223633], 'val_loss': [0.921095609664917, 0.8590132594108582, 0.8327711224555969, 0.8036140203475952, 0.7695053219795227]}), ('he', {'accuracy': [0.6076321005821228, 0.7416829466819763, 0.8023483157157898, 0.7964774966239929, 0.7994129061698914], 'loss': [1.8679646253585815, 0.83370441198349, 0.6740171313285828, 0.6393263936042786, 0.628375232219696], 'val_accuracy': [0.7494305372238159, 0.785876989364624, 0.7881549000740051, 0.785876989364624, 0.7927107214927673], 'val_loss': [0.9572963714599609, 0.6962085366249084, 0.647013783454895, 0.6203557848930359, 0.5985512137413025]}), ('he_with_droupout_reg', {'accuracy': [0.4755381643772125, 0.553816020488739, 0.5459882616996765, 0.5557730197906494, 0.5949119329452515], 'loss': [4.784561634063721, 2.365198850631714, 1.9479527473449707, 1.6778559684753418, 1.6164984703063965], 'val_accuracy': [0.694760799407959, 0.678815484046936, 0.6332573890686035, 0.6674259901046753, 0.6970387101173401], 'val_loss': [1.5239566564559937, 1.4225733280181885, 1.3898589611053467, 1.3182435035705566, 1.2712211608886719]})])\n"
     ]
    },
    {
     "data": {
      "image/png": "[encoded data removed]",
      "text/plain": [
       "<Figure size 640x480 with 1 Axes>"
      ]
     },
     "metadata": {},
     "output_type": "display_data"
    }
   ],
   "source": [
    "print(logs.items())\n",
    "for name,history in logs.items():\n",
    "    plt.plot(history['accuracy'],label=name)\n",
    "plt.legend()\n",
    "plt.show()"
   ]
  }
 ],
 "metadata": {
  "kernelspec": {
   "display_name": "Python 3",
   "language": "python",
   "name": "python3"
  },
  "language_info": {
   "codemirror_mode": {
    "name": "ipython",
    "version": 3
   },
   "file_extension": ".py",
   "mimetype": "text/x-python",
   "name": "python",
   "nbconvert_exporter": "python",
   "pygments_lexer": "ipython3",
   "version": "3.13.2"
  }
 },
 "nbformat": 4,
 "nbformat_minor": 5
}
