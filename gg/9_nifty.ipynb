{
 "cells": [
  {
   "cell_type": "code",
   "execution_count": null,
   "id": "da5e890a",
   "metadata": {},
   "outputs": [],
   "source": [
    "import matplotlib.pyplot as plt\n",
    "import pandas as pd\n",
    "import numpy as np\n",
    "from tensorflow.keras.models import Sequential\n",
    "from tensorflow.keras.layers import LSTM,Dense\n",
    "from sklearn.preprocessing import MinMaxScaler\n",
    "from sklearn.model_selection import train_test_split\n",
    "data=pd.read_csv(\"D:\\\\Source_code\\\\Lab\\\\data\\\\NIFTY50_all.csv\")\n",
    "price=data['Close'].astype('float32')\n",
    "\n",
    "X,Y=[],[]\n",
    "time_step=10\n",
    "\n",
    "scaler=MinMaxScaler((0,1))\n",
    "price=scaler.fit_transform(price.values.reshape(-1,1))\n",
    "\n",
    "for i in range(time_step,len(price)):\n",
    "    X.append(price[i-time_step:i]) \n",
    "    Y.append(price[i]) \n",
    "\n",
    "X=np.array(X)\n",
    "Y=np.array(Y)\n",
    "\n",
    "X=X.reshape(X.shape[0],X.shape[1],1)\n",
    "\n",
    "xtrain,xtest,ytrain,ytest=train_test_split(X,Y,shuffle=False,random_state=42,test_size=0.2)\n",
    "\n",
    "\n",
    "model = Sequential([\n",
    "    LSTM(50, return_sequences=True, input_shape=(10, 1)),\n",
    "    LSTM(50),\n",
    "    Dense(1)\n",
    "])\n",
    "\n",
    "model.compile(optimizer='adam', loss='mse', metrics=['mae'])\n",
    "model.fit(xtrain, ytrain, epochs=5, validation_data=(xtest, ytest), batch_size=64)\n",
    "\n",
    "\n",
    "pred = model.predict(xtest)\n",
    "\n",
    "ytest=scaler.inverse_transform(ytest)\n",
    "pred=scaler.inverse_transform(pred)\n",
    "\n",
    "\n",
    "\n",
    "plt.plot(ytest, label='Actual')\n",
    "plt.plot(pred, label='Predicted')\n",
    "plt.legend()\n",
    "plt.title(\"Simple LSTM Stock Prediction\")\n",
    "plt.show()"
   ]
  }
 ],
 "metadata": {
  "kernelspec": {
   "display_name": "Python 3",
   "language": "python",
   "name": "python3"
  },
  "language_info": {
   "codemirror_mode": {
    "name": "ipython",
    "version": 3
   },
   "file_extension": ".py",
   "mimetype": "text/x-python",
   "name": "python",
   "nbconvert_exporter": "python",
   "pygments_lexer": "ipython3",
   "version": "3.13.2"
  }
 },
 "nbformat": 4,
 "nbformat_minor": 5
}
