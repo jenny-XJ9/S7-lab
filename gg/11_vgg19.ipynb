{
 "cells": [
  {
   "cell_type": "code",
   "execution_count": null,
   "id": "bad23866",
   "metadata": {},
   "outputs": [],
   "source": [
    "import matplotlib.pyplot as plt\n",
    "from tensorflow.keras.utils import image_dataset_from_directory,to_categorical\n",
    "from tensorflow.keras.models import Sequential\n",
    "from tensorflow.keras.layers import Dense,Flatten\n",
    "from tensorflow.image import resize\n",
    "from tensorflow.keras.applications import VGG19\n",
    "from tensorflow.keras.applications.vgg19 import preprocess_input\n",
    "from sklearn.model_selection import train_test_split\n",
    "import numpy as np\n",
    "def load_dataset(dir,image_size=(32,32)):\n",
    "    data=image_dataset_from_directory(dir,image_size=image_size)\n",
    "    images,labels=[],[]\n",
    "    for x,y in data:\n",
    "        images.append(x.numpy()/255.0)\n",
    "        labels.append(y.numpy())\n",
    "    X=np.concatenate(images)\n",
    "    Y=np.concatenate(labels)\n",
    "    Y=to_categorical(Y,10)\n",
    "    return X,Y\n",
    "\n",
    "def preprocess(X,batch=200):\n",
    "    finished=[]\n",
    "    for i in range(0,len(X),batch):\n",
    "        packet=X[i:i+batch]\n",
    "        sized=resize(packet,(224,224))\n",
    "        processed=preprocess_input(sized.numpy())\n",
    "        finished.append(processed)\n",
    "    return (np.concatenate(finished))\n",
    "X,Y=load_dataset(\"D:\\\\Source_code\\\\Lab\\\\data\\\\cifar10\\\\test\")\n",
    "\n",
    "X=preprocess(X)\n",
    "\n",
    "xtrain,xtest,ytrain,ytest=train_test_split(X,Y,random_state=42,test_size=0.3)\n",
    "base_model=VGG19(include_top=False)\n",
    "base_model.trainable=False\n",
    "model=Sequential([\n",
    "    base_model,\n",
    "    Flatten()\n",
    "    Dense(224),\n",
    "    Dense(10,activation='softmax')\n",
    "])\n",
    "\n",
    "model.compile(optimizer=\"adam\", loss=\"categorical_crossentropy\", metrics=[\"accuracy\"])\n",
    "\n",
    "# Train\n",
    "history = model.fit(xtrain, ytrain, validation_data=(xtest, ytest), epochs=5, batch_size=16)\n",
    "\n",
    "# Plot\n",
    "plt.plot(history.history[\"accuracy\"], label=\"Train\")\n",
    "plt.plot(history.history[\"val_accuracy\"], label=\"Val\")\n",
    "plt.xlabel(\"Epochs\")\n",
    "plt.ylabel(\"Accuracy\")\n",
    "plt.legend()\n",
    "plt.show()\n"
   ]
  }
 ],
 "metadata": {
  "kernelspec": {
   "display_name": "Python 3",
   "language": "python",
   "name": "python3"
  },
  "language_info": {
   "codemirror_mode": {
    "name": "ipython",
    "version": 3
   },
   "file_extension": ".py",
   "mimetype": "text/x-python",
   "name": "python",
   "nbconvert_exporter": "python",
   "pygments_lexer": "ipython3",
   "version": "3.13.2"
  }
 },
 "nbformat": 4,
 "nbformat_minor": 5
}
