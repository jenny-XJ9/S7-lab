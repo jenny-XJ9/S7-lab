{
 "cells": [
  {
   "cell_type": "code",
   "execution_count": 2,
   "id": "2bc4be36",
   "metadata": {},
   "outputs": [],
   "source": [
    "from transformers import pipeline"
   ]
  },
  {
   "cell_type": "code",
   "execution_count": 5,
   "id": "3437dd3e",
   "metadata": {},
   "outputs": [
    {
     "name": "stderr",
     "output_type": "stream",
     "text": [
      "No model was supplied, defaulted to distilbert/distilbert-base-uncased-finetuned-sst-2-english and revision 714eb0f (https://huggingface.co/distilbert/distilbert-base-uncased-finetuned-sst-2-english).\n",
      "Using a pipeline without specifying a model name and revision in production is not recommended.\n",
      "Device set to use cpu\n",
      "No model was supplied, defaulted to distilbert/distilbert-base-uncased-finetuned-sst-2-english and revision 714eb0f (https://huggingface.co/distilbert/distilbert-base-uncased-finetuned-sst-2-english).\n",
      "Using a pipeline without specifying a model name and revision in production is not recommended.\n"
     ]
    },
    {
     "name": "stdout",
     "output_type": "stream",
     "text": [
      "The meeting started at 10 AM as scheduled [{'label': 'POSITIVE', 'score': 0.9163383841514587}]\n"
     ]
    },
    {
     "name": "stderr",
     "output_type": "stream",
     "text": [
      "Device set to use cpu\n"
     ]
    },
    {
     "name": "stdout",
     "output_type": "stream",
     "text": [
      "The movie was good in the begining but was worse at the end. [{'label': 'NEGATIVE', 'score': 0.9992266893386841}]\n"
     ]
    }
   ],
   "source": [
    "def sentiment_analysis(text):\n",
    "    model=pipeline('sentiment-analysis')\n",
    "    mood=model(text)\n",
    "    return mood\n",
    "\n",
    "print(\"The meeting started at 10 AM as scheduled\",sentiment_analysis(\"The meeting started at 10 AM as scheduled\"))\n",
    "print(\"The movie was good in the begining but was worse at the end.\" ,sentiment_analysis(\"The movie was good in the begining but was worse at the end.\"))"
   ]
  }
 ],
 "metadata": {
  "kernelspec": {
   "display_name": "Python 3",
   "language": "python",
   "name": "python3"
  },
  "language_info": {
   "codemirror_mode": {
    "name": "ipython",
    "version": 3
   },
   "file_extension": ".py",
   "mimetype": "text/x-python",
   "name": "python",
   "nbconvert_exporter": "python",
   "pygments_lexer": "ipython3",
   "version": "3.13.2"
  }
 },
 "nbformat": 4,
 "nbformat_minor": 5
}
