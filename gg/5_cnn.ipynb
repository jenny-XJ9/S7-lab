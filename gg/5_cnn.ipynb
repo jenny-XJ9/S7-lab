{
 "cells": [
  {
   "cell_type": "code",
   "execution_count": 8,
   "id": "9a45ab4c",
   "metadata": {},
   "outputs": [],
   "source": [
    "import matplotlib.pyplot as plt\n",
    "import pandas as pd\n",
    "import numpy as np\n",
    "from tensorflow.keras.utils import image_dataset_from_directory,to_categorical\n",
    "from tensorflow.keras.models import Sequential\n",
    "from tensorflow.keras.layers import Dense,Flatten,Conv2D,MaxPooling2D\n",
    "from sklearn.model_selection import train_test_split\n"
   ]
  },
  {
   "cell_type": "code",
   "execution_count": 13,
   "id": "013efd7b",
   "metadata": {},
   "outputs": [],
   "source": [
    "def load_data(dir,img_size=(32,32)):\n",
    "    data=image_dataset_from_directory(dir,image_size=img_size)\n",
    "    images,labels=[],[]\n",
    "    for x,y in data:\n",
    "        images.append(x.numpy().astype('float32'))\n",
    "        labels.append(y.numpy())\n",
    "    X=np.concatenate(images)/255.0\n",
    "    Y=np.concatenate(labels)\n",
    "    Y=to_categorical(Y,10)\n",
    "    return X,Y"
   ]
  },
  {
   "cell_type": "code",
   "execution_count": 14,
   "id": "6b340cfe",
   "metadata": {},
   "outputs": [
    {
     "name": "stdout",
     "output_type": "stream",
     "text": [
      "Found 50000 files belonging to 10 classes.\n"
     ]
    }
   ],
   "source": [
    "X,Y=load_data(\"D:\\\\Source_code\\\\Lab\\\\data\\\\cifar10\\\\train\")\n",
    "\n",
    "xtrain,xtest,ytrain,ytest=train_test_split(X,Y,random_state=42,stratify=Y,test_size=0.2)"
   ]
  },
  {
   "cell_type": "code",
   "execution_count": 21,
   "id": "9f56a98f",
   "metadata": {},
   "outputs": [
    {
     "name": "stdout",
     "output_type": "stream",
     "text": [
      "Epoch 1/5\n",
      "\u001b[1m625/625\u001b[0m \u001b[32m━━━━━━━━━━━━━━━━━━━━\u001b[0m\u001b[37m\u001b[0m \u001b[1m32s\u001b[0m 49ms/step - accuracy: 0.3818 - loss: 1.6681 - val_accuracy: 0.5087 - val_loss: 1.3641\n",
      "Epoch 2/5\n",
      "\u001b[1m625/625\u001b[0m \u001b[32m━━━━━━━━━━━━━━━━━━━━\u001b[0m\u001b[37m\u001b[0m \u001b[1m30s\u001b[0m 48ms/step - accuracy: 0.5419 - loss: 1.2759 - val_accuracy: 0.5921 - val_loss: 1.1581\n",
      "Epoch 3/5\n",
      "\u001b[1m625/625\u001b[0m \u001b[32m━━━━━━━━━━━━━━━━━━━━\u001b[0m\u001b[37m\u001b[0m \u001b[1m30s\u001b[0m 48ms/step - accuracy: 0.6037 - loss: 1.1156 - val_accuracy: 0.6210 - val_loss: 1.0857\n",
      "Epoch 4/5\n",
      "\u001b[1m625/625\u001b[0m \u001b[32m━━━━━━━━━━━━━━━━━━━━\u001b[0m\u001b[37m\u001b[0m \u001b[1m30s\u001b[0m 48ms/step - accuracy: 0.6413 - loss: 1.0185 - val_accuracy: 0.6160 - val_loss: 1.1128\n",
      "Epoch 5/5\n",
      "\u001b[1m625/625\u001b[0m \u001b[32m━━━━━━━━━━━━━━━━━━━━\u001b[0m\u001b[37m\u001b[0m \u001b[1m30s\u001b[0m 48ms/step - accuracy: 0.6707 - loss: 0.9328 - val_accuracy: 0.6636 - val_loss: 0.9747\n"
     ]
    }
   ],
   "source": [
    "model=Sequential([\n",
    "    Conv2D(128,3,activation='relu'),\n",
    "    MaxPooling2D(),\n",
    "    Conv2D(128,3,activation='relu'),\n",
    "    MaxPooling2D(),\n",
    "    Conv2D(64,3,activation='relu'),\n",
    "    MaxPooling2D(),\n",
    "    Flatten(),\n",
    "    Dense(128,activation='relu'),\n",
    "    Dense(10,activation='softmax')\n",
    "\n",
    "])\n",
    "\n",
    "model.compile(loss='categorical_crossentropy',optimizer='adam',metrics=['accuracy'])\n",
    "log=model.fit(xtrain,ytrain,validation_data=(xtest,ytest),epochs=5,batch_size=64)"
   ]
  },
  {
   "cell_type": "code",
   "execution_count": 23,
   "id": "16237bcf",
   "metadata": {},
   "outputs": [
    {
     "name": "stderr",
     "output_type": "stream",
     "text": [
      "C:\\Users\\luzif\\AppData\\Local\\Temp\\ipykernel_13292\\2482958959.py:2: UserWarning: No artists with labels found to put in legend.  Note that artists whose label start with an underscore are ignored when legend() is called with no argument.\n",
      "  plt.legend()\n"
     ]
    },
    {
     "data": {
      "image/png": "[encoded data removed]",
      "text/plain": [
       "<Figure size 640x480 with 1 Axes>"
      ]
     },
     "metadata": {},
     "output_type": "display_data"
    }
   ],
   "source": [
    "\n",
    "plt.plot(log.history['accuracy'])\n",
    "plt.legend()\n",
    "plt.show()"
   ]
  }
 ],
 "metadata": {
  "kernelspec": {
   "display_name": "Python 3",
   "language": "python",
   "name": "python3"
  },
  "language_info": {
   "codemirror_mode": {
    "name": "ipython",
    "version": 3
   },
   "file_extension": ".py",
   "mimetype": "text/x-python",
   "name": "python",
   "nbconvert_exporter": "python",
   "pygments_lexer": "ipython3",
   "version": "3.13.2"
  }
 },
 "nbformat": 4,
 "nbformat_minor": 5
}
